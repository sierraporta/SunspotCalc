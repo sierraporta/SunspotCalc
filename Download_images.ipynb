{
 "cells": [
  {
   "cell_type": "code",
   "execution_count": 1,
   "id": "3080cd3d-5634-4027-baf1-316e23b451f8",
   "metadata": {},
   "outputs": [],
   "source": [
    "import numpy as np\n",
    "import matplotlib.pyplot as plt\n",
    "import urllib3\n",
    "import requests"
   ]
  },
  {
   "cell_type": "code",
   "execution_count": 2,
   "id": "7461fd6b-ce74-4b9b-9cbf-e1f04763e3d3",
   "metadata": {},
   "outputs": [],
   "source": [
    "def download_image(year,month,day):\n",
    "    remote_url='https://soho.nascom.nasa.gov/data/synoptic/sunspots_earth/sunspots_1024_'+str(year)+str(month)+str(day)+'.jpg'\n",
    "    # Define the local filename to save data\n",
    "    local_file = 'sunspot_'+str(year)+str(month)+str(day)+'.jpg'\n",
    "    # Make http request for remote file data\n",
    "    data = requests.get(remote_url)\n",
    "    # Save file data to local copy\n",
    "    with open(local_file, 'wb')as file:\n",
    "        file.write(data.content)\n",
    "    return"
   ]
  },
  {
   "cell_type": "code",
   "execution_count": 3,
   "id": "c280f4aa-2642-4abb-82b8-2053796ff28e",
   "metadata": {},
   "outputs": [],
   "source": [
    "for i in range(7,25,1):\n",
    "    download_image(2022,\"{:02d}\".format(7),\"{:02d}\".format(i))"
   ]
  },
  {
   "cell_type": "code",
   "execution_count": null,
   "id": "eedba562-69a8-4100-b3b1-0b0e9a584ad6",
   "metadata": {},
   "outputs": [],
   "source": []
  }
 ],
 "metadata": {
  "kernelspec": {
   "display_name": "Python 3 (ipykernel)",
   "language": "python",
   "name": "python3"
  },
  "language_info": {
   "codemirror_mode": {
    "name": "ipython",
    "version": 3
   },
   "file_extension": ".py",
   "mimetype": "text/x-python",
   "name": "python",
   "nbconvert_exporter": "python",
   "pygments_lexer": "ipython3",
   "version": "3.10.4"
  }
 },
 "nbformat": 4,
 "nbformat_minor": 5
}
